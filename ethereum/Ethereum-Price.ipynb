{
  "nbformat": 4,
  "nbformat_minor": 0,
  "metadata": {
    "colab": {
      "name": "Untitled0.ipynb",
      "provenance": []
    },
    "kernelspec": {
      "name": "python3",
      "display_name": "Python 3"
    }
  },
  "cells": [
    {
      "cell_type": "code",
      "metadata": {
        "id": "Id6Af4n7_bRg"
      },
      "source": [
        "#Description: This program sends crypto currency price alerts"
      ],
      "execution_count": null,
      "outputs": []
    },
    {
      "cell_type": "code",
      "metadata": {
        "id": "_yWJ1yk3AA4p"
      },
      "source": [
        "#Import the libraries\r\n",
        "from bs4 import BeautifulSoup\r\n",
        "import requests\r\n",
        "import time\r\n",
        "import ssl\r\n",
        "from email.mime.text import MIMEText as MT\r\n",
        "from email.mime.multipart import MIMEMultipart as MM"
      ],
      "execution_count": 1,
      "outputs": []
    },
    {
      "cell_type": "code",
      "metadata": {
        "id": "pfWTsoQRBTyY"
      },
      "source": [
        "#Create a function to get the price of a cryptocurrency\r\n",
        "def get_crypto_price(coin):\r\n",
        "  #Get the URL\r\n",
        "  url = \"https://www.google.com/search?q=\"+coin+\"+price\"\r\n",
        "\r\n",
        "  #Make a request to the website\r\n",
        "  HTML = requests.get(url)\r\n",
        "\r\n",
        "  #Parse the HTML\r\n",
        "  soup = BeautifulSoup(HTML.text, 'html.parser')\r\n",
        "\r\n",
        "  #Find the current price\r\n",
        "  text = soup.find(\"div\", attrs={'class':'BNeawe iBp4i AP7Wnd'}).text\r\n",
        "\r\n",
        "  #Return the text\r\n",
        "  return text"
      ],
      "execution_count": 15,
      "outputs": []
    },
    {
      "cell_type": "code",
      "metadata": {
        "id": "ujmDPzf-C0Ho"
      },
      "source": [
        "get_crypto_price('ethereum')"
      ],
      "execution_count": null,
      "outputs": []
    },
    {
      "cell_type": "code",
      "metadata": {
        "id": "63LxkiLXDklS"
      },
      "source": [
        "#Store the email addresses for the receiver, and the sender and store the senders password\r\n",
        "receiver = 'programmer@gmail.com'\r\n",
        "sender = 'programmer@gmail.com'\r\n",
        "sender_password = 'N/A'"
      ],
      "execution_count": null,
      "outputs": []
    },
    {
      "cell_type": "code",
      "metadata": {
        "id": "X0-nNkR5DxTn"
      },
      "source": [
        "#Create a function to send emails\r\n",
        "def send_email(sender, receiver, sender_password, text_price):\r\n",
        "  #Create a MIMEMultipart Object\r\n",
        "  msg = MM()\r\n",
        "  msg['Subject'] = \"New Crypto Price Alert!\"\r\n",
        "  msg['From'] = sender\r\n",
        "  msg['To'] = receiver\r\n",
        "\r\n",
        "  #Create the HTML for the message\r\n",
        "  HTML = \"\"\"\r\n",
        "  <HTML>\r\n",
        "  <body>\r\n",
        "  <h1>New Crypto Price Alert!</h1>\r\n",
        "  <h2>\"\"\"+text_price+\"\"\"\r\n",
        "  </h2>\r\n",
        "  </body>\r\n",
        "  </HTML>\r\n",
        "  \"\"\"\r\n",
        "  #Create a html MIMEText Object\r\n",
        "  MTObj = MT(HTML, \"html\")\r\n",
        "  #Attach the MIMEText Object\r\n",
        "  msg.attach(MTObj)\r\n",
        "\r\n",
        "  #Create the secure socket layer (SSL) context object\r\n",
        "  SSL_context = ssl.create_default_context()\r\n",
        "  #Create the secure Simple Mail Transfer Protocol (SMTP) connection\r\n",
        "  server = smtplib.SMTP_SSL(host=\"smtp.gmail.com\", port=465, context=SSL_context)\r\n",
        "  #Login to the email\r\n",
        "  server.logn(sender, sender_password)\r\n",
        "  #Send the email\r\n",
        "  server.sendmail(sender, receiver, msg.as_string())\r\n",
        "  "
      ],
      "execution_count": 18,
      "outputs": []
    },
    {
      "cell_type": "code",
      "metadata": {
        "id": "mmfmcR7kFSii"
      },
      "source": [
        "#Create a function to send the alert\r\n",
        "def send_alert():\r\n",
        "  last_price = -1\r\n",
        "  #Create an infinite loop to continiously send/show the price\r\n",
        "  while True:\r\n",
        "    #Choose the cryoptocurrency/coin\r\n",
        "    coin = 'ethereum'\r\n",
        "    #Get the price of the cryptocurrency\r\n",
        "    price = get_crypto_price(coin)\r\n",
        "    #Check if the price has changed\r\n",
        "    if price != last_price:\r\n",
        "      print(coin.capitalize()+' price: ', price)\r\n",
        "      price_text = sender.capitalize()+' is '+price\r\n",
        "      send_email(sender, receiver, sender_password, price_text)\r\n",
        "      last_price = price #Update the last price\r\n",
        "      time.sleep(3)"
      ],
      "execution_count": null,
      "outputs": []
    },
    {
      "cell_type": "code",
      "metadata": {
        "id": "wQCEOtbSGJZV"
      },
      "source": [
        "#Send the alert\r\n",
        "send_alert()"
      ],
      "execution_count": null,
      "outputs": []
    }
  ]
}